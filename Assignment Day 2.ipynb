{
 "cells": [
  {
   "cell_type": "markdown",
   "metadata": {},
   "source": [
    "# Question No.1"
   ]
  },
  {
   "cell_type": "markdown",
   "metadata": {},
   "source": [
    "Try 5 Different functions of the String in Python.\n",
    "For example - index, split function."
   ]
  },
  {
   "cell_type": "code",
   "execution_count": 18,
   "metadata": {},
   "outputs": [
    {
     "name": "stdout",
     "output_type": "stream",
     "text": [
      "['apple', 'banana@mango@orange@']\n",
      "apple@banana@mango@orange@cherry\n",
      "Length of a string: 6\n",
      "No.of apple are: 1\n",
      "Index are: 6\n",
      "Does txt contain alphabets? True\n"
     ]
    }
   ],
   "source": [
    "txt = \"apple@banana@mango@orange@\"\n",
    "txt1=\"cherry\"           \n",
    "\n",
    "print(txt.split(\"@\", 1))                              #split\n",
    "\n",
    "print(txt+txt1)                                       #concatenate\n",
    "\n",
    "print(\"Length of a string:\",len(txt1))                #length\n",
    "\n",
    "print(\"No.of apple are:\",txt.count(\"apple\"))          #count\n",
    "\n",
    "print(\"Index are:\",txt.index(\"banana\"))               #index\n",
    "\n",
    "print(\"Does txt contain alphabets?\",txt1.isalpha())     #isalpha"
   ]
  },
  {
   "cell_type": "markdown",
   "metadata": {},
   "source": [
    "# Question No.2"
   ]
  },
  {
   "cell_type": "markdown",
   "metadata": {},
   "source": [
    "Try 5 Different functions of the List object in Python"
   ]
  },
  {
   "cell_type": "code",
   "execution_count": 39,
   "metadata": {},
   "outputs": [
    {
     "name": "stdout",
     "output_type": "stream",
     "text": [
      "['carrot', 'pepper', 'chilli']\n",
      "After append ['carrot', 'pepper', 'chilli', 'onion']\n",
      "Length of list 4\n",
      "<class 'list'>\n",
      "This list has been copied -  ['carrot', 'pepper', 'chilli', 'onion']\n",
      "Index at: 0\n",
      "This is reverse -  ['onion', 'chilli', 'pepper', 'carrot']\n",
      "Sorted list is -  ['carrot', 'chilli', 'onion', 'pepper']\n",
      "Pepper is popped out ['carrot', 'onion', 'pepper']\n"
     ]
    }
   ],
   "source": [
    "veg = [\"carrot\", \"pepper\", \"chilli\"]\n",
    "print(veg)\n",
    "\n",
    "veg.append(\"onion\")                           #append\n",
    "print(\"After append\", veg)\n",
    "\n",
    "print(\"Length of list\",len(veg))              #length\n",
    "print(type(veg))\n",
    "\n",
    "lst=veg.copy()                                #copy\n",
    "print(\"This list has been copied - \", lst)\n",
    "\n",
    "print(\"Index at:\",veg.index(\"carrot\"))        #index\n",
    "\n",
    "veg.reverse()                                 #reverse\n",
    "print(\"This is reverse - \", veg)\n",
    "\n",
    "veg.sort()                                    #sort\n",
    "print(\"Sorted list is - \", veg)\n",
    "\n",
    "veg.pop(1)\n",
    "print(\"Chilli is popped out\", veg)"
   ]
  },
  {
   "cell_type": "markdown",
   "metadata": {},
   "source": [
    "# Question No.3"
   ]
  },
  {
   "cell_type": "markdown",
   "metadata": {},
   "source": [
    "Experiment with at least 5 default functions of Dictionary "
   ]
  },
  {
   "cell_type": "code",
   "execution_count": 47,
   "metadata": {},
   "outputs": [
    {
     "name": "stdout",
     "output_type": "stream",
     "text": [
      "{'name': 'Hasam', 'course': 'Python', 'year': 2020}\n",
      "Returns key value: dict_keys(['name', 'course', 'year'])\n",
      "Gets name from dic: Hasam\n",
      "Return tuples in a list: dict_items([('name', 'Hasam'), ('course', 'Python'), ('year', 2020)])\n",
      "Pop year: 2020\n",
      "{'name': 'Hasam', 'course': 'Python'}\n"
     ]
    }
   ],
   "source": [
    "student = {\n",
    "  \"name\": \"Hasam\",\n",
    "  \"course\": \"Python\",\n",
    "  \"year\": 2020\n",
    "}\n",
    "\n",
    "print(student)\n",
    "\n",
    "print(\"Returns key value:\",student.keys())             #keys\n",
    "\n",
    "print(\"Gets name from dic:\",student.get(\"name\"))       #get\n",
    "\n",
    "print(\"Return tuples in a list:\",student.items())      #item\n",
    "\n",
    "print(\"Pop year:\", student.pop(\"year\"))                #pop\n",
    "\n",
    "print(student)"
   ]
  },
  {
   "cell_type": "code",
   "execution_count": null,
   "metadata": {},
   "outputs": [],
   "source": []
  }
 ],
 "metadata": {
  "kernelspec": {
   "display_name": "Python 3",
   "language": "python",
   "name": "python3"
  },
  "language_info": {
   "codemirror_mode": {
    "name": "ipython",
    "version": 3
   },
   "file_extension": ".py",
   "mimetype": "text/x-python",
   "name": "python",
   "nbconvert_exporter": "python",
   "pygments_lexer": "ipython3",
   "version": "3.8.5"
  }
 },
 "nbformat": 4,
 "nbformat_minor": 4
}
