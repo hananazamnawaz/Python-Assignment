{
 "cells": [
  {
   "cell_type": "markdown",
   "metadata": {},
   "source": [
    "# Project 1"
   ]
  },
  {
   "cell_type": "markdown",
   "metadata": {},
   "source": [
    "Do the project - Develop a cryptography app in python and Upload it"
   ]
  },
  {
   "cell_type": "code",
   "execution_count": 1,
   "metadata": {},
   "outputs": [
    {
     "name": "stdout",
     "output_type": "stream",
     "text": [
      "Enter the text123456\n",
      "b'gAAAAABf3crpWPyoBbqSmUQMPLrWCy2e85QoPcl7VizWKEZmFd8zQo51h6lCLwKN067GiQFER_-FdWA1qHPIjMoi3Ex6kP0YJw=='\n"
     ]
    },
    {
     "data": {
      "text/plain": [
       "b'123456'"
      ]
     },
     "execution_count": 1,
     "metadata": {},
     "output_type": "execute_result"
    }
   ],
   "source": [
    "from cryptography.fernet import Fernet\n",
    "# Put this somewhere safe!\n",
    "key = Fernet.generate_key()\n",
    "f = Fernet(key)\n",
    "text=input(\"Enter the text\").encode()\n",
    "token = f.encrypt(text)\n",
    "print(token)\n",
    "f.decrypt(token)"
   ]
  },
  {
   "cell_type": "code",
   "execution_count": null,
   "metadata": {},
   "outputs": [],
   "source": []
  }
 ],
 "metadata": {
  "kernelspec": {
   "display_name": "Python 3",
   "language": "python",
   "name": "python3"
  },
  "language_info": {
   "codemirror_mode": {
    "name": "ipython",
    "version": 3
   },
   "file_extension": ".py",
   "mimetype": "text/x-python",
   "name": "python",
   "nbconvert_exporter": "python",
   "pygments_lexer": "ipython3",
   "version": "3.8.5"
  }
 },
 "nbformat": 4,
 "nbformat_minor": 4
}
